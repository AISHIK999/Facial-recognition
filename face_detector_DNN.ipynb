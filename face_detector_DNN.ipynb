{
 "cells": [
  {
   "cell_type": "markdown",
   "source": [
    "# Face detection using deep neural network"
   ],
   "metadata": {
    "collapsed": false,
    "pycharm": {
     "name": "#%% md\n"
    }
   }
  },
  {
   "cell_type": "code",
   "execution_count": 30,
   "outputs": [],
   "source": [
    "# Load the libraries\n",
    "import numpy as np\n",
    "import cv2"
   ],
   "metadata": {
    "collapsed": false,
    "pycharm": {
     "name": "#%%\n"
    }
   }
  },
  {
   "cell_type": "code",
   "execution_count": 31,
   "metadata": {
    "pycharm": {
     "name": "#%%\n"
    }
   },
   "outputs": [],
   "source": [
    "# Feed the image\n",
    "original_image = cv2.imread('./images/obama.jpg')\n",
    "\n",
    "# cv2.imshow('Original image', original_image)\n",
    "cv2.waitKey(0)\n",
    "cv2.destroyAllWindows()"
   ]
  },
  {
   "cell_type": "code",
   "execution_count": 32,
   "metadata": {
    "pycharm": {
     "name": "#%%\n"
    }
   },
   "outputs": [],
   "source": [
    "# Load model\n",
    "DNN_model = cv2.dnn.readNetFromCaffe('./models/deploy.prototxt.txt',\n",
    "                                     './models/res10_300x300_ssd_iter_140000_fp16.caffemodel')"
   ]
  },
  {
   "cell_type": "code",
   "execution_count": 33,
   "metadata": {
    "pycharm": {
     "name": "#%%\n"
    }
   },
   "outputs": [
    {
     "data": {
      "text/plain": "(1, 1, 200, 7)"
     },
     "execution_count": 33,
     "metadata": {},
     "output_type": "execute_result"
    }
   ],
   "source": [
    "# Blob extraction\n",
    "blob = cv2.dnn.blobFromImage(original_image, 1, (300, 300), (104, 177, 123), swapRB=False)\n",
    "DNN_model.setInput(blob)\n",
    "detections = DNN_model.forward()\n",
    "detections.shape"
   ]
  },
  {
   "cell_type": "markdown",
   "metadata": {
    "pycharm": {
     "name": "#%% md\n"
    }
   },
   "source": [
    "Face Detection"
   ]
  },
  {
   "cell_type": "code",
   "execution_count": 34,
   "metadata": {
    "pycharm": {
     "name": "#%%\n"
    }
   },
   "outputs": [],
   "source": [
    "height, width = original_image.shape[:2]\n",
    "for i in range(0, detections.shape[2]):\n",
    "    confidence = detections[0, 0, i, 2]\n",
    "    if confidence >= 0.5:\n",
    "        #print(confidence)\n",
    "        boundary = detections[0, 0, i, 3:7]\n",
    "        boundary = boundary * np.array([width, height, width, height])\n",
    "        boundary = boundary.astype(int)\n",
    "        x1, y1, x2, y2 = boundary\n",
    "        cv2.rectangle(original_image, (x1, y1), (x2, y2), (0, 255, 0))\n",
    "\n",
    "        text = 'Confidence score: {:.2f} %'.format(confidence * 100)\n",
    "        cv2.putText(original_image, text, (x1, y1 - 10), cv2.FONT_HERSHEY_PLAIN, 1, (255, 255, 255), )\n",
    "\n",
    "cv2.imshow('Face Detected', original_image)\n",
    "cv2.waitKey(0)\n",
    "cv2.destroyAllWindows()"
   ]
  }
 ],
 "metadata": {
  "kernelspec": {
   "display_name": "Python 3",
   "language": "python",
   "name": "python3"
  },
  "language_info": {
   "codemirror_mode": {
    "name": "ipython",
    "version": 3
   },
   "file_extension": ".py",
   "mimetype": "text/x-python",
   "name": "python",
   "nbconvert_exporter": "python",
   "pygments_lexer": "ipython3",
   "version": "3.9.2"
  }
 },
 "nbformat": 4,
 "nbformat_minor": 4
}