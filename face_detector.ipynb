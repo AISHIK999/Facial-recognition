{
 "cells": [
  {
   "cell_type": "code",
   "execution_count": 1,
   "metadata": {
    "collapsed": true,
    "pycharm": {
     "name": "#%%\n"
    }
   },
   "outputs": [],
   "source": [
    "# Import necessary modules\n",
    "import numpy as np\n",
    "import pandas as pd\n",
    "import cv2 as cv2"
   ]
  },
  {
   "cell_type": "markdown",
   "source": [
    "Feed the image"
   ],
   "metadata": {
    "collapsed": false,
    "pycharm": {
     "name": "#%% md\n"
    }
   }
  },
  {
   "cell_type": "code",
   "execution_count": 2,
   "outputs": [],
   "source": [
    "image_location = \"./images/indian_cricket_team.webp\"\n",
    "original_image = cv2.imread(image_location)\n",
    "# cv2.imshow(\"Fed image\", original_image)\n",
    "cv2.waitKey(0)\n",
    "cv2.destroyAllWindows()"
   ],
   "metadata": {
    "collapsed": false,
    "pycharm": {
     "name": "#%%\n"
    }
   }
  },
  {
   "cell_type": "markdown",
   "source": [
    "Use face cascade classifier"
   ],
   "metadata": {
    "collapsed": false,
    "pycharm": {
     "name": "#%% md\n"
    }
   }
  },
  {
   "cell_type": "code",
   "execution_count": 3,
   "outputs": [],
   "source": [
    "\"\"\"\n",
    "We will use the 'haarcascade_frontalface_default' classifier and feed the image to it.\n",
    "'detectMultiScale2' returns two values:\n",
    "    i) The coordinates of the face(s) on the image\n",
    "    ii) Minimum number of neighbours\n",
    "\"\"\"\n",
    "\n",
    "face_cascade = cv2.CascadeClassifier(\"./cascade_classifier/haarcascade_frontalface_default.xml\")\n",
    "face_coordinates, min_neighbours = face_cascade.detectMultiScale2(original_image, minNeighbors=10)"
   ],
   "metadata": {
    "collapsed": false,
    "pycharm": {
     "name": "#%%\n"
    }
   }
  },
  {
   "cell_type": "markdown",
   "source": [
    "Check the outputs from detectMultiscale"
   ],
   "metadata": {
    "collapsed": false,
    "pycharm": {
     "name": "#%% md\n"
    }
   }
  },
  {
   "cell_type": "code",
   "execution_count": 7,
   "outputs": [
    {
     "name": "stdout",
     "output_type": "stream",
     "text": [
      "Image attributes:\n",
      "[[ 15   9  57  57]\n",
      " [470  15  61  61]\n",
      " [163  28  52  52]\n",
      " [372  31  48  48]\n",
      " [266  33  46  46]]\n",
      "\n",
      "Image neighbours:\n",
      "[40 32 31 30 11]\n"
     ]
    }
   ],
   "source": [
    "# print(f\"Image attributes:\\n{face_coordinates}\\n\")\n",
    "# print(f\"Image neighbours:\\n{min_neighbours}\")"
   ],
   "metadata": {
    "collapsed": false,
    "pycharm": {
     "name": "#%%\n"
    }
   }
  },
  {
   "cell_type": "markdown",
   "source": [
    "Draw a square around the detected face"
   ],
   "metadata": {
    "collapsed": false,
    "pycharm": {
     "name": "#%% md\n"
    }
   }
  },
  {
   "cell_type": "code",
   "execution_count": 5,
   "outputs": [
    {
     "data": {
      "text/plain": "<function destroyAllWindows>"
     },
     "execution_count": 5,
     "metadata": {},
     "output_type": "execute_result"
    }
   ],
   "source": [
    "for x_coordinate, y_coordinate, width, height in face_coordinates:\n",
    "    cv2.rectangle(original_image, (x_coordinate, y_coordinate), (x_coordinate + width, y_coordinate + height), (0, 0, 255))\n",
    "cv2.imshow(\"Face detected\", original_image)\n",
    "cv2.waitKey(0)\n",
    "cv2.destroyAllWindows"
   ],
   "metadata": {
    "collapsed": false,
    "pycharm": {
     "name": "#%%\n"
    }
   }
  }
 ],
 "metadata": {
  "kernelspec": {
   "display_name": "Python 3",
   "language": "python",
   "name": "python3"
  },
  "language_info": {
   "codemirror_mode": {
    "name": "ipython",
    "version": 2
   },
   "file_extension": ".py",
   "mimetype": "text/x-python",
   "name": "python",
   "nbconvert_exporter": "python",
   "pygments_lexer": "ipython2",
   "version": "2.7.6"
  }
 },
 "nbformat": 4,
 "nbformat_minor": 0
}