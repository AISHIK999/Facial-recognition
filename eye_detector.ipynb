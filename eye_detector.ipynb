{
 "cells": [
  {
   "cell_type": "code",
   "execution_count": 1,
   "metadata": {
    "collapsed": true,
    "pycharm": {
     "name": "#%%\n"
    }
   },
   "outputs": [],
   "source": [
    "# Import necessary modules\n",
    "import numpy as np\n",
    "import pandas as pd\n",
    "import cv2 as cv2"
   ]
  },
  {
   "cell_type": "markdown",
   "source": [
    "Feed the image"
   ],
   "metadata": {
    "collapsed": false,
    "pycharm": {
     "name": "#%% md\n"
    }
   }
  },
  {
   "cell_type": "code",
   "execution_count": 2,
   "outputs": [],
   "source": [
    "image_location = \"./images/chaplin.jpg\"\n",
    "original_image = cv2.imread(image_location)\n",
    "# cv2.imshow(\"Fed image\", original_image)\n",
    "cv2.waitKey(0)\n",
    "cv2.destroyAllWindows()"
   ],
   "metadata": {
    "collapsed": false,
    "pycharm": {
     "name": "#%%\n"
    }
   }
  },
  {
   "cell_type": "markdown",
   "source": [
    "Use cascade classifier to detect the face"
   ],
   "metadata": {
    "collapsed": false,
    "pycharm": {
     "name": "#%% md\n"
    }
   }
  },
  {
   "cell_type": "code",
   "execution_count": 3,
   "outputs": [],
   "source": [
    "face_cascade = cv2.CascadeClassifier(\"./cascade_classifier/haarcascade_frontalface_default.xml\")\n",
    "eye_cascade = cv2.CascadeClassifier(\"./cascade_classifier/haarcascade_eye.xml\")\n",
    "face_coordinates, min_neighbours = face_cascade.detectMultiScale2(original_image, minNeighbors=10)"
   ],
   "metadata": {
    "collapsed": false,
    "pycharm": {
     "name": "#%%\n"
    }
   }
  },
  {
   "cell_type": "markdown",
   "source": [
    "Highlight the face and eyes"
   ],
   "metadata": {
    "collapsed": false,
    "pycharm": {
     "name": "#%% md\n"
    }
   }
  },
  {
   "cell_type": "code",
   "execution_count": 4,
   "outputs": [],
   "source": [
    "for x_coordinate, y_coordinate, width, height in face_coordinates:\n",
    "    # Highlight the face\n",
    "    cv2.rectangle(original_image, (x_coordinate, y_coordinate), (x_coordinate + width, y_coordinate + height), (0, 0, 255), 2)\n",
    "\n",
    "    # Crop the image to the face. This is done to prevent faulty eye detection outside of thr face(s)\n",
    "    cropped_image = original_image[y_coordinate:y_coordinate + height, x_coordinate:x_coordinate + width]\n",
    "\n",
    "    # Apply cascade classifier to detect the eyes\n",
    "    eyes, min_neighbours_eye = eye_cascade.detectMultiScale2(cropped_image, minNeighbors=10)\n",
    "\n",
    "    # Detect the eyes\n",
    "    for eye_x, eye_y, eye_width, eye_height in eyes:\n",
    "        x_coordinate_eye = x_coordinate + eye_x + (eye_width // 2)\n",
    "        y_coordinate_eye = y_coordinate + eye_y + (eye_height // 2)\n",
    "        radius = (eye_width // 2)\n",
    "\n",
    "\n",
    "        cv2.circle(original_image, (x_coordinate_eye, y_coordinate_eye), radius, (0, 0, 255), 2)"
   ],
   "metadata": {
    "collapsed": false,
    "pycharm": {
     "name": "#%%\n"
    }
   }
  },
  {
   "cell_type": "code",
   "execution_count": 5,
   "outputs": [],
   "source": [
    "cv2.imshow(\"Face detected\", original_image)\n",
    "cv2.waitKey(0)\n",
    "cv2.destroyAllWindows()"
   ],
   "metadata": {
    "collapsed": false,
    "pycharm": {
     "name": "#%%\n"
    }
   }
  }
 ],
 "metadata": {
  "kernelspec": {
   "display_name": "Python 3",
   "language": "python",
   "name": "python3"
  },
  "language_info": {
   "codemirror_mode": {
    "name": "ipython",
    "version": 2
   },
   "file_extension": ".py",
   "mimetype": "text/x-python",
   "name": "python",
   "nbconvert_exporter": "python",
   "pygments_lexer": "ipython2",
   "version": "2.7.6"
  }
 },
 "nbformat": 4,
 "nbformat_minor": 0
}